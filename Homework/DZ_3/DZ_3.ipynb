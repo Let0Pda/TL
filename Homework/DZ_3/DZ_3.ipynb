{
 "cells": [
  {
   "cell_type": "markdown",
   "metadata": {},
   "source": [
    "# Домашнее задание\n",
    "\n",
    "Реализуйте классификацию эмоциональной окрашенности текстов при помощи объекта pipeline.\n",
    "\n",
    "1. Найдите тип задач Sentiment Analysis на huggingface.co\n",
    "2. Найдите модель для русского языка (примеры: rubert-tiny2..., rubert-base...)"
   ]
  },
  {
   "cell_type": "markdown",
   "metadata": {},
   "source": [
    "### Описание:\n",
    "Использована модель - [r1char9/rubert-tiny2-ru-go-emotions](https://huggingface.co/r1char9/rubert-tiny2-ru-go-emotions)  \n",
    "Модель [RuBERT-tiny2](https://huggingface.co/cointegrated/rubert-tiny2) была fine-tuned для задачи emotion classification, предназначенная для Russian текст. Выполняет задачу multi-label classification с слудующимим категориями:\n",
    "```\n",
    "0: admiration\n",
    "1: amusement\n",
    "2: anger\n",
    "3: annoyance\n",
    "4: approval\n",
    "5: caring\n",
    "6: confusion\n",
    "7: curiosity\n",
    "8: desire\n",
    "9: disappointment\n",
    "10: disapproval\n",
    "11: disgust\n",
    "12: embarrassment\n",
    "13: excitement\n",
    "14: fear\n",
    "15: gratitude\n",
    "16: grief\n",
    "17: joy\n",
    "18: love\n",
    "19: nervousness\n",
    "20: optimism\n",
    "21: pride\n",
    "22: realization\n",
    "23: relief\n",
    "24: remorse\n",
    "25: sadness\n",
    "26: surprise\n",
    "27: neutral\n",
    "```\n",
    "#### Категории для русского языка:\n",
    "```\n",
    "admiration: восхищение\n",
    "amusement: веселье\n",
    "anger: злость\n",
    "annoyance: раздражение\n",
    "approval: одобрение\n",
    "caring: забота\n",
    "confusion: непонимание\n",
    "curiosity: любопытство\n",
    "desire: желание\n",
    "disappointment: разочарование\n",
    "disapproval: неодобрение\n",
    "disgust: отвращение\n",
    "embarrassment: смущение\n",
    "excitement: возбуждение\n",
    "fear: страх\n",
    "gratitude: признательность\n",
    "grief: горе\n",
    "joy: радость\n",
    "love: любовь\n",
    "nervousness: нервозность\n",
    "optimism: оптимизм\n",
    "pride: гордость\n",
    "realization: осознание\n",
    "relief: облегчение\n",
    "remorse: раскаяние\n",
    "sadness: грусть\n",
    "surprise: удивление\n",
    "neutral: нейтральность\n",
    "```\n",
    "#### Usage\n",
    "```\n",
    "from transformers import pipeline\n",
    "model = pipeline(model=\"r1char9/rubert-tiny2-ru-go-emotions\")\n",
    "model(\"Привет, ты мне нравишься!\")\n",
    "# [{'label': 'love', 'score': 0.5955629944801331}]\n",
    "model('Hello, I love you.')\n",
    "# [{'label': 'love', 'score': 0.911257266998291}]\n",
    "```\n",
    "\n",
    "https://huggingface.co/r1char9/rubert-tiny2-ru-go-emotions"
   ]
  },
  {
   "cell_type": "code",
   "execution_count": 41,
   "metadata": {},
   "outputs": [
    {
     "data": {
      "application/vnd.jupyter.widget-view+json": {
       "model_id": "876b5c57b6ae4ea2a9b6fe67897d0be5",
       "version_major": 2,
       "version_minor": 0
      },
      "text/plain": [
       "config.json:   0%|          | 0.00/1.94k [00:00<?, ?B/s]"
      ]
     },
     "metadata": {},
     "output_type": "display_data"
    },
    {
     "name": "stderr",
     "output_type": "stream",
     "text": [
      "d:\\GitTest\\Transfer learning\\TL\\.venv\\Lib\\site-packages\\huggingface_hub\\file_download.py:148: UserWarning: `huggingface_hub` cache-system uses symlinks by default to efficiently store duplicated files but your machine does not support them in C:\\Users\\Alexey\\.cache\\huggingface\\hub\\models--r1char9--rubert-tiny2-ru-go-emotions. Caching files will still work but in a degraded version that might require more space on your disk. This warning can be disabled by setting the `HF_HUB_DISABLE_SYMLINKS_WARNING` environment variable. For more details, see https://huggingface.co/docs/huggingface_hub/how-to-cache#limitations.\n",
      "To support symlinks on Windows, you either need to activate Developer Mode or to run Python as an administrator. In order to see activate developer mode, see this article: https://docs.microsoft.com/en-us/windows/apps/get-started/enable-your-device-for-development\n",
      "  warnings.warn(message)\n"
     ]
    },
    {
     "data": {
      "application/vnd.jupyter.widget-view+json": {
       "model_id": "867a0d3e618441a6a8b8dec8df3adac3",
       "version_major": 2,
       "version_minor": 0
      },
      "text/plain": [
       "pytorch_model.bin:   0%|          | 0.00/117M [00:00<?, ?B/s]"
      ]
     },
     "metadata": {},
     "output_type": "display_data"
    },
    {
     "data": {
      "application/vnd.jupyter.widget-view+json": {
       "model_id": "aeb8036082fb48d39775c2e9a52dd2b6",
       "version_major": 2,
       "version_minor": 0
      },
      "text/plain": [
       "tokenizer_config.json:   0%|          | 0.00/363 [00:00<?, ?B/s]"
      ]
     },
     "metadata": {},
     "output_type": "display_data"
    },
    {
     "data": {
      "application/vnd.jupyter.widget-view+json": {
       "model_id": "06fe7e5e0bd34aff8b544d78529afb82",
       "version_major": 2,
       "version_minor": 0
      },
      "text/plain": [
       "vocab.txt:   0%|          | 0.00/1.08M [00:00<?, ?B/s]"
      ]
     },
     "metadata": {},
     "output_type": "display_data"
    },
    {
     "data": {
      "application/vnd.jupyter.widget-view+json": {
       "model_id": "a89a2c1ba52c43f18d674cf196d37376",
       "version_major": 2,
       "version_minor": 0
      },
      "text/plain": [
       "tokenizer.json:   0%|          | 0.00/2.41M [00:00<?, ?B/s]"
      ]
     },
     "metadata": {},
     "output_type": "display_data"
    },
    {
     "data": {
      "application/vnd.jupyter.widget-view+json": {
       "model_id": "4c1fc7771a1d4d489dd7ce96961c685e",
       "version_major": 2,
       "version_minor": 0
      },
      "text/plain": [
       "special_tokens_map.json:   0%|          | 0.00/125 [00:00<?, ?B/s]"
      ]
     },
     "metadata": {},
     "output_type": "display_data"
    }
   ],
   "source": [
    "from transformers import pipeline\n",
    "\n",
    "classifier = pipeline(model=\"r1char9/rubert-tiny2-ru-go-emotions\")\n"
   ]
  },
  {
   "cell_type": "code",
   "execution_count": 45,
   "metadata": {},
   "outputs": [],
   "source": [
    "\n",
    "emotion_labels_ru = {\n",
    "    \"admiration\": \"восхищение\",\n",
    "    \"amusement\": \"веселье\",\n",
    "    \"anger\": \"злость\",\n",
    "    \"annoyance\": \"раздражение\",\n",
    "    \"approval\": \"одобрение\",\n",
    "    \"caring\": \"забота\",\n",
    "    \"confusion\": \"непонимание\",\n",
    "    \"curiosity\": \"любопытство\",\n",
    "    \"desire\": \"желание\",\n",
    "    \"disappointment\": \"разочарование\",\n",
    "    \"disapproval\": \"неодобрение\",\n",
    "    \"disgust\": \"отвращение\",\n",
    "    \"embarrassment\": \"смущение\",\n",
    "    \"excitement\": \"возбуждение\",\n",
    "    \"fear\": \"страх\",\n",
    "    \"gratitude\": \"признательность\",\n",
    "    \"grief\": \"горе\",\n",
    "    \"joy\": \"радость\",\n",
    "    \"love\": \"любовь\",\n",
    "    \"nervousness\": \"нервозность\",\n",
    "    \"optimism\": \"оптимизм\",\n",
    "    \"pride\": \"гордость\",\n",
    "    \"realization\": \"осознание\",\n",
    "    \"relief\": \"облегчение\",\n",
    "    \"remorse\": \"раскаяние\",\n",
    "    \"sadness\": \"грусть\",\n",
    "    \"surprise\": \"удивление\",\n",
    "    \"neutral\": \"нейтральность\",\n",
    "}\n"
   ]
  },
  {
   "cell_type": "code",
   "execution_count": 46,
   "metadata": {},
   "outputs": [],
   "source": [
    "def classify_texts_with_sentiments(text, classifier, dict):\n",
    "    output = \"\"\n",
    "    for i, text in enumerate(text, start=1):\n",
    "        label = classifier([text])[0][\"label\"]\n",
    "        output += f\"{i}. Текст: {text}\\n   Тональность: {dict[label]}\\n\"\n",
    "    return output\n"
   ]
  },
  {
   "cell_type": "code",
   "execution_count": 47,
   "metadata": {},
   "outputs": [],
   "source": [
    "texts = [\"Отличный товар\", \"Мне не понравилось\", \"Прекрасно выглядит, ничего не меняйте!\", \"Ничего не понял\", \"У меня не работала розетка, в остальном все отлично\"]\n"
   ]
  },
  {
   "cell_type": "code",
   "execution_count": 48,
   "metadata": {},
   "outputs": [
    {
     "name": "stdout",
     "output_type": "stream",
     "text": [
      "1. Текст: Отличный товар\n",
      "   Тональность: восхищение\n",
      "2. Текст: Мне не понравилось\n",
      "   Тональность: неодобрение\n",
      "3. Текст: Прекрасно выглядит, ничего не меняйте!\n",
      "   Тональность: восхищение\n",
      "4. Текст: Ничего не понял\n",
      "   Тональность: нейтральность\n",
      "5. Текст: У меня не работала розетка, в остальном все отлично\n",
      "   Тональность: неодобрение\n",
      "\n"
     ]
    }
   ],
   "source": [
    "print(classify_texts_with_sentiments(texts, classifier, emotion_labels_ru))\n"
   ]
  }
 ],
 "metadata": {
  "kernelspec": {
   "display_name": ".venv",
   "language": "python",
   "name": "python3"
  },
  "language_info": {
   "codemirror_mode": {
    "name": "ipython",
    "version": 3
   },
   "file_extension": ".py",
   "mimetype": "text/x-python",
   "name": "python",
   "nbconvert_exporter": "python",
   "pygments_lexer": "ipython3",
   "version": "3.11.8"
  }
 },
 "nbformat": 4,
 "nbformat_minor": 2
}
