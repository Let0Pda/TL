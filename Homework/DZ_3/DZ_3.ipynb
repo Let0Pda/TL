{
 "cells": [
  {
   "cell_type": "markdown",
   "metadata": {},
   "source": [
    "# Домашнее задание\n",
    "\n",
    "Реализуйте классификацию эмоциональной окрашенности текстов при помощи объекта pipeline.\n",
    "\n",
    "1. Найдите тип задач Sentiment Analysis на huggingface.co\n",
    "2. Найдите модель для русского языка (примеры: rubert-tiny2..., rubert-base...)"
   ]
  },
  {
   "cell_type": "markdown",
   "metadata": {},
   "source": [
    "### Описание:\n",
    "Использована модель - [r1char9/rubert-tiny2-ru-go-emotions](https://huggingface.co/r1char9/rubert-tiny2-ru-go-emotions)  \n",
    "Модель [RuBERT-tiny2](https://huggingface.co/cointegrated/rubert-tiny2) была fine-tuned для задачи emotion classification, предназначенная для Russian текст. Выполняет задачу multi-label classification с слудующимим категориями:\n",
    "```\n",
    "0: admiration\n",
    "1: amusement\n",
    "2: anger\n",
    "3: annoyance\n",
    "4: approval\n",
    "5: caring\n",
    "6: confusion\n",
    "7: curiosity\n",
    "8: desire\n",
    "9: disappointment\n",
    "10: disapproval\n",
    "11: disgust\n",
    "12: embarrassment\n",
    "13: excitement\n",
    "14: fear\n",
    "15: gratitude\n",
    "16: grief\n",
    "17: joy\n",
    "18: love\n",
    "19: nervousness\n",
    "20: optimism\n",
    "21: pride\n",
    "22: realization\n",
    "23: relief\n",
    "24: remorse\n",
    "25: sadness\n",
    "26: surprise\n",
    "27: neutral\n",
    "```\n",
    "#### Категории для русского языка:\n",
    "```\n",
    "admiration: восхищение\n",
    "amusement: веселье\n",
    "anger: злость\n",
    "annoyance: раздражение\n",
    "approval: одобрение\n",
    "caring: забота\n",
    "confusion: непонимание\n",
    "curiosity: любопытство\n",
    "desire: желание\n",
    "disappointment: разочарование\n",
    "disapproval: неодобрение\n",
    "disgust: отвращение\n",
    "embarrassment: смущение\n",
    "excitement: возбуждение\n",
    "fear: страх\n",
    "gratitude: признательность\n",
    "grief: горе\n",
    "joy: радость\n",
    "love: любовь\n",
    "nervousness: нервозность\n",
    "optimism: оптимизм\n",
    "pride: гордость\n",
    "realization: осознание\n",
    "relief: облегчение\n",
    "remorse: раскаяние\n",
    "sadness: грусть\n",
    "surprise: удивление\n",
    "neutral: нейтральность\n",
    "```\n",
    "#### Usage\n",
    "```\n",
    "from transformers import pipeline\n",
    "model = pipeline(model=\"r1char9/rubert-tiny2-ru-go-emotions\")\n",
    "model(\"Привет, ты мне нравишься!\")\n",
    "# [{'label': 'love', 'score': 0.5955629944801331}]\n",
    "model('Hello, I love you.')\n",
    "# [{'label': 'love', 'score': 0.911257266998291}]\n",
    "```\n",
    "\n",
    "https://huggingface.co/r1char9/rubert-tiny2-ru-go-emotions"
   ]
  },
  {
   "cell_type": "code",
   "execution_count": 64,
   "metadata": {},
   "outputs": [],
   "source": [
    "from transformers import pipeline\n",
    "\n",
    "classifier = pipeline(model=\"r1char9/rubert-tiny2-ru-go-emotions\")\n"
   ]
  },
  {
   "cell_type": "code",
   "execution_count": 65,
   "metadata": {},
   "outputs": [],
   "source": [
    "\n",
    "emotion_labels_ru = {\n",
    "    \"admiration\": \"восхищение\",\n",
    "    \"amusement\": \"веселье\",\n",
    "    \"anger\": \"злость\",\n",
    "    \"annoyance\": \"раздражение\",\n",
    "    \"approval\": \"одобрение\",\n",
    "    \"caring\": \"забота\",\n",
    "    \"confusion\": \"непонимание\",\n",
    "    \"curiosity\": \"любопытство\",\n",
    "    \"desire\": \"желание\",\n",
    "    \"disappointment\": \"разочарование\",\n",
    "    \"disapproval\": \"неодобрение\",\n",
    "    \"disgust\": \"отвращение\",\n",
    "    \"embarrassment\": \"смущение\",\n",
    "    \"excitement\": \"возбуждение\",\n",
    "    \"fear\": \"страх\",\n",
    "    \"gratitude\": \"признательность\",\n",
    "    \"grief\": \"горе\",\n",
    "    \"joy\": \"радость\",\n",
    "    \"love\": \"любовь\",\n",
    "    \"nervousness\": \"нервозность\",\n",
    "    \"optimism\": \"оптимизм\",\n",
    "    \"pride\": \"гордость\",\n",
    "    \"realization\": \"осознание\",\n",
    "    \"relief\": \"облегчение\",\n",
    "    \"remorse\": \"раскаяние\",\n",
    "    \"sadness\": \"грусть\",\n",
    "    \"surprise\": \"удивление\",\n",
    "    \"neutral\": \"нейтральность\",\n",
    "}\n"
   ]
  },
  {
   "cell_type": "code",
   "execution_count": 66,
   "metadata": {},
   "outputs": [],
   "source": [
    "def classify_texts_with_sentiments(text, classifier, dict):\n",
    "    output = \"\"\n",
    "    for i, text in enumerate(text, start=1):\n",
    "        result = classifier([text])[0]\n",
    "        label = result[\"label\"]\n",
    "        score = result[\"score\"]\n",
    "        output += f\"{i}. Текст: {text}\\n   Настроение: {dict[label]}\\n   Оценка: {score}\\n\"\n",
    "    return output\n"
   ]
  },
  {
   "cell_type": "code",
   "execution_count": 67,
   "metadata": {},
   "outputs": [],
   "source": [
    "texts = [\"Отличный товар\", \"Мне не понравилось\", \"Прекрасно выглядит, ничего не меняйте!\", \"Ничего не понял\", \"У меня не работала розетка, в остальном все отлично\"]\n"
   ]
  },
  {
   "cell_type": "code",
   "execution_count": 68,
   "metadata": {},
   "outputs": [
    {
     "name": "stdout",
     "output_type": "stream",
     "text": [
      "1. Текст: Отличный товар\n",
      "   Настроение: восхищение\n",
      "   Оценка: 0.9214676022529602\n",
      "2. Текст: Мне не понравилось\n",
      "   Настроение: неодобрение\n",
      "   Оценка: 0.37619587779045105\n",
      "3. Текст: Прекрасно выглядит, ничего не меняйте!\n",
      "   Настроение: восхищение\n",
      "   Оценка: 0.9100561141967773\n",
      "4. Текст: Ничего не понял\n",
      "   Настроение: нейтральность\n",
      "   Оценка: 0.35764068365097046\n",
      "5. Текст: У меня не работала розетка, в остальном все отлично\n",
      "   Настроение: неодобрение\n",
      "   Оценка: 0.4192999005317688\n",
      "\n"
     ]
    }
   ],
   "source": [
    "print(classify_texts_with_sentiments(texts, classifier, emotion_labels_ru))\n"
   ]
  }
 ],
 "metadata": {
  "kernelspec": {
   "display_name": ".venv",
   "language": "python",
   "name": "python3"
  },
  "language_info": {
   "codemirror_mode": {
    "name": "ipython",
    "version": 3
   },
   "file_extension": ".py",
   "mimetype": "text/x-python",
   "name": "python",
   "nbconvert_exporter": "python",
   "pygments_lexer": "ipython3",
   "version": "3.11.8"
  }
 },
 "nbformat": 4,
 "nbformat_minor": 2
}
